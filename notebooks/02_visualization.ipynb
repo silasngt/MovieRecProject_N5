{
 "cells": [
  {
   "cell_type": "markdown",
   "id": "9e39c424",
   "metadata": {},
   "source": [
    "# Import thư viện"
   ]
  },
  {
   "cell_type": "code",
   "execution_count": null,
   "id": "2bc9a68b",
   "metadata": {},
   "outputs": [],
   "source": [
    "import pandas as pd\n",
    "import numpy as np\n",
    "from sklearn.preprocessing import StandardScaler\n",
    "from sklearn.decomposition import PCA\n",
    "import matplotlib.pyplot as plt\n",
    "import seaborn as sns\n",
    "from sklearn.model_selection import cross_val_score\n",
    "from sklearn.neighbors import KNeighborsClassifier\n",
    "from sklearn.ensemble import RandomForestClassifier, AdaBoostClassifier\n",
    "from sklearn.naive_bayes import GaussianNB\n",
    "from sklearn.svm import SVC\n",
    "from sklearn.cluster import KMeans, DBSCAN\n",
    "from sklearn.metrics import silhouette_score\n",
    "import warnings\n",
    "warnings.filterwarnings('ignore')\n"
   ]
  },
  {
   "cell_type": "markdown",
   "id": "d1c950ec",
   "metadata": {},
   "source": [
    "# 1. ĐỌC DỮ LIỆU"
   ]
  },
  {
   "cell_type": "code",
   "execution_count": null,
   "id": "20adb562",
   "metadata": {},
   "outputs": [],
   "source": [
    "df = pd.read_csv(\"movie_features.csv\")\n"
   ]
  },
  {
   "cell_type": "markdown",
   "id": "47775b9b",
   "metadata": {},
   "source": [
    "# 2. TẠO DỮ LIỆU MỚI - CHỈ LẤY CỘT THUỘC TÍNH (NUMERIC)"
   ]
  },
  {
   "cell_type": "code",
   "execution_count": null,
   "id": "ef1280de",
   "metadata": {},
   "outputs": [],
   "source": [
    "X = df.select_dtypes(include=np.number).drop(columns=['tmdbId']).copy()\n"
   ]
  },
  {
   "cell_type": "markdown",
   "id": "9f948166",
   "metadata": {},
   "source": [
    "# 3. CHUẨN HÓA DỮ LIỆU (STANDARDIZATION)"
   ]
  },
  {
   "cell_type": "code",
   "execution_count": null,
   "id": "f48af74b",
   "metadata": {},
   "outputs": [],
   "source": [
    "scaler = StandardScaler()\n",
    "X_scaled = scaler.fit_transform(X)\n"
   ]
  },
  {
   "cell_type": "markdown",
   "id": "c95b34a8",
   "metadata": {},
   "source": [
    "# 4. GIẢM CHIỀU DỮ LIỆU - PCA (2D)"
   ]
  },
  {
   "cell_type": "code",
   "execution_count": null,
   "id": "662d0357",
   "metadata": {},
   "outputs": [],
   "source": [
    "pca = PCA(n_components=2)\n",
    "X_2d = pca.fit_transform(X_scaled)\n"
   ]
  },
  {
   "cell_type": "markdown",
   "id": "ee655fbc",
   "metadata": {},
   "source": [
    "# 5. VẼ SCATTER PLOT 2D THEO NHÃN"
   ]
  },
  {
   "cell_type": "code",
   "execution_count": null,
   "id": "f6a99989",
   "metadata": {},
   "outputs": [],
   "source": [
    "label_encoder = LabelEncoder()\n",
    "y_encoded = label_encoder.fit_transform(df['label_genre'])\n",
    "\n",
    "plt.figure(figsize=(12, 8))\n",
    "scatter = plt.scatter(X_2d[:, 0], X_2d[:, 1], c=y_encoded, cmap='viridis',\n",
    "                     alpha=0.6, edgecolors='black', linewidth=0.5)\n",
    "plt.colorbar(scatter, label='Label Genre')\n",
    "plt.xlabel('Principal Component 1', fontsize=12)\n",
    "plt.ylabel('Principal Component 2', fontsize=12)\n",
    "plt.title('PCA Visualization - Movie Features by Genre', fontsize=14, fontweight='bold')\n",
    "plt.grid(True, alpha=0.3)\n",
    "plt.tight_layout()\n",
    "plt.savefig(os.path.join(output_dir, \"pca_plot.png\"), dpi=200)\n",
    "print(\"\\n✓ Đã lưu biểu đồ PCA vào: ../etl/reports/pca_plot.png\")\n",
    "plt.show()\n"
   ]
  }
 ],
 "metadata": {
  "language_info": {
   "name": "python"
  }
 },
 "nbformat": 4,
 "nbformat_minor": 5
}
